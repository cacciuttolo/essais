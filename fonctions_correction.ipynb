{
 "cells": [
  {
   "cell_type": "markdown",
   "metadata": {},
   "source": [
    "![icone python](https://upload.wikimedia.org/wikipedia/commons/0/0a/Python.svg)"
   ]
  },
  {
   "cell_type": "markdown",
   "metadata": {},
   "source": [
    "# CORRECTION"
   ]
  },
  {
   "cell_type": "markdown",
   "metadata": {},
   "source": [
    "# 0. Comment travailler avec un notebook Jupiter ?\n",
    "Un notebook jupyter est composé de cellules : \n",
    "- certaines sont des cellules de texte (comme celle-ci, par exemple)\n",
    "- d'autres sont des cellules de code, où on écrit du langage python : on les reconnaît il est écrit *Entrée [ ]* devant.\n",
    "\n",
    "\n",
    "On peut écrire dans chacune d'elle. Pour valider une cellule (**indispensable pour exécuter un programme python**), on peut soit utiliser le raccourci clavier Ctrl+Entrée, soit cliquer sur le bouton Exécuter. On peut exécuter plusieurs fois la cellule, si on a corrigé ou modifié un programme par exemple.\n",
    "\n",
    "\n",
    "**remarque :** dans un programme python, on peut utiliser le symbole # devant une ligne : cette ligne devient alors un commentaire, elle n'est pas exécutée par Python. \n",
    "\n",
    "\n",
    "Une fois le travail terminé, vous allez le télécharger pour ensuite l'envoyer au professeur.\n",
    "Pour cela, allez dans Fichier, Télécharger au format, puis HTML (.html)\n",
    "\n",
    "Le document téléchargé sera lisible par un navigateur internet, mais ne pourra pas être modifié.\n"
   ]
  },
  {
   "cell_type": "markdown",
   "metadata": {},
   "source": [
    "# I. Notion de fonction\n",
    "En python, on utilise souvent la notion de fonction qui permet de concevoir ses propres outils de calcul afin de ne pas répéter plusieurs fois les mêmes séquences de calcul.\n",
    "Un exemple : frais d’agence\n",
    "Lors de la vente d’un bien immobilier, l’agence immobilière « jevendstout » se rémunère en prélevant des frais d’agences : 10 % du prix de vente moins 5000€ si celui-ci est supérieur à 150 000 €, et  10 000€ si le prix de vente est inférieur à 150 000€.\n",
    "Par exemple, pour une maison vendue 300 000€, \n",
    "les frais sont de 300 000*0,1-5000=25 000€.\n",
    "\n",
    "▪ Nous allons créer une fonction permettant de calculer les frais d’agences en fonction du prix de vente.\n",
    "Commençons par le cas où le prix est supérieur à 150 000€.\n",
    "\n",
    "▪ Exécute le programme suivant :\n"
   ]
  },
  {
   "cell_type": "code",
   "execution_count": null,
   "metadata": {},
   "outputs": [],
   "source": [
    "def frais(P):\n",
    "    return(P*0.1-5000)"
   ]
  },
  {
   "cell_type": "markdown",
   "metadata": {},
   "source": [
    "Pour créer une fonction, il faut utiliser l’instruction def suivi du nom de la fonction, ici frais puis entre parenthèses des paramètres de la fonction, ici le prix de vente P. Cette ligne se termine obligatoirement par deux points :\n",
    "Quand on va à la ligne, le logiciel crée automatiquement une indentation (ou tabulation, c’est à dire un décalage du début de la ligne) : elle est indispensable pour indiquer que l’on est dans la fonction. \n",
    "Si on exécute cette le programme, rien ne se passe… En effet, nous avons juste appris à Python une nouvelle fonction, appelée frais, mais nous ne lui avons rien demandé de calculer…\n",
    "Exécute le programme ci-dessous : "
   ]
  },
  {
   "cell_type": "code",
   "execution_count": 1,
   "metadata": {
    "scrolled": false
   },
   "outputs": [
    {
     "name": "stdout",
     "output_type": "stream",
     "text": [
      "25000.0\n",
      "45000.0\n"
     ]
    }
   ],
   "source": [
    "def frais(P):\n",
    "    return(P*0.1-5000)\n",
    "print(frais(300000))\n",
    "print(frais(500000))"
   ]
  },
  {
   "cell_type": "markdown",
   "metadata": {},
   "source": [
    "À combien s’élèvent les frais d’agence pour un prix de vente de 700 000€ ? Utilise la fonction dans la cellule ci-dessous :"
   ]
  },
  {
   "cell_type": "code",
   "execution_count": 3,
   "metadata": {},
   "outputs": [
    {
     "name": "stdout",
     "output_type": "stream",
     "text": [
      "65000.0\n"
     ]
    }
   ],
   "source": [
    "print(frais(700000))"
   ]
  },
  {
   "cell_type": "markdown",
   "metadata": {},
   "source": [
    "réponse: Les frais d'agence s'élèvent à **65 000€**"
   ]
  },
  {
   "cell_type": "markdown",
   "metadata": {},
   "source": [
    "Calcule et fais afficher frais (100000). Cette somme correspond-elle aux frais d’agence ?"
   ]
  },
  {
   "cell_type": "code",
   "execution_count": 7,
   "metadata": {},
   "outputs": [
    {
     "name": "stdout",
     "output_type": "stream",
     "text": [
      "5000.0\n"
     ]
    }
   ],
   "source": [
    "print(frais(100000))"
   ]
  },
  {
   "cell_type": "markdown",
   "metadata": {},
   "source": [
    "réponse: **cela ne corresond pas aux frais d'agence** car le prix de vente est inférieur à 150 000 €."
   ]
  },
  {
   "cell_type": "markdown",
   "metadata": {},
   "source": [
    "▪ Pour pouvoir calculer correctement les frais d’agence, quelque soit le prix de vente, il faut utiliser une instruction conditionnelle, déjà vue avec un tableur : si … alors … sinon. Voici comment nous allons écrire une condition en Python : \n",
    "\n",
    "\n",
    "\n",
    "\n"
   ]
  },
  {
   "cell_type": "code",
   "execution_count": 8,
   "metadata": {},
   "outputs": [
    {
     "name": "stdout",
     "output_type": "stream",
     "text": [
      "25000.0\n",
      "10000\n",
      "10000\n"
     ]
    }
   ],
   "source": [
    "def frais(P):\n",
    "    if P>150000:\n",
    "        return(P*0.1-5000)\n",
    "    else: \n",
    "        return(10000)\n",
    "print(frais(300000))\n",
    "print(frais(150000))\n",
    "print(frais(100000))"
   ]
  },
  {
   "cell_type": "markdown",
   "metadata": {},
   "source": [
    "Note les différentes indentations ainsi que les deux points \":\" "
   ]
  },
  {
   "cell_type": "markdown",
   "metadata": {},
   "source": [
    "# 2.EXERCICES"
   ]
  },
  {
   "cell_type": "markdown",
   "metadata": {},
   "source": [
    "## exercice 1.\n",
    "Ecris dans la cellule suivante une fonction, nommée double(a) qui renvoie le double du nombre a.\n",
    "Tu pourras vérifier si la fonction calcule bien ce que l’on veut en essayant sur plusieurs exemples, comme double(10), double(200) ..."
   ]
  },
  {
   "cell_type": "code",
   "execution_count": 9,
   "metadata": {},
   "outputs": [
    {
     "name": "stdout",
     "output_type": "stream",
     "text": [
      "20 200\n"
     ]
    }
   ],
   "source": [
    "# exercice 1 : Écris le programme dans cette cellule.\n",
    "def double(a):\n",
    "    return (2*a)\n",
    "print(double(10),double(100))"
   ]
  },
  {
   "cell_type": "markdown",
   "metadata": {},
   "source": [
    "## exercice 2.\n",
    "Ecris une fonction fonct(x) qui renvoie l’image de x par la fonction mathématique f(x)=-2x^2+3x+1\n",
    "Par exemple, fonct(3) devrait renvoyer comme résultat -8."
   ]
  },
  {
   "cell_type": "code",
   "execution_count": 11,
   "metadata": {},
   "outputs": [
    {
     "data": {
      "text/plain": [
       "-8"
      ]
     },
     "execution_count": 11,
     "metadata": {},
     "output_type": "execute_result"
    }
   ],
   "source": [
    "# exercice 2 : Écris le programme dans cette cellule.\n",
    "def fonct(x):\n",
    "    return (-2*x**2+3*x+1)\n",
    "fonct(3)"
   ]
  },
  {
   "cell_type": "markdown",
   "metadata": {},
   "source": [
    "## exercice 3.\n",
    "Ecris une fonction de deux paramètres moyenne(a,b) qui renvoie la moyenne des deux nombres a et b"
   ]
  },
  {
   "cell_type": "code",
   "execution_count": 16,
   "metadata": {},
   "outputs": [
    {
     "name": "stdout",
     "output_type": "stream",
     "text": [
      "Entre le premier nombre 2\n",
      "Entre le second nombre 5\n",
      "La moyenne de ces deux nombres est 3.5\n"
     ]
    }
   ],
   "source": [
    "#exercice 3 : Écris le programme dans cette cellule.\n",
    "def moyenne(a,b):\n",
    "    return ((a+b)/2)\n",
    "nombre1=float((input(\"Entre le premier nombre \")))\n",
    "nombre2=float((input(\"Entre le second nombre \")))\n",
    "print (\"La moyenne de ces deux nombres est\",moyenne(nombre1,nombre2))\n"
   ]
  },
  {
   "cell_type": "markdown",
   "metadata": {},
   "source": [
    "## exercice 4.*\n",
    "Ecris une fonction  de deux paramètres max(a,b) qui renvoie le plus grand des deux nombres.\n",
    "•Par exemple, max(3,6) devrait renvoyer le résultat 6.\n",
    "•Nous allons avoir besoin de l’instruction conditionnelle if… else…"
   ]
  },
  {
   "cell_type": "code",
   "execution_count": 22,
   "metadata": {},
   "outputs": [
    {
     "name": "stdout",
     "output_type": "stream",
     "text": [
      "Entre le premier nombre 0\n",
      "Entre le second nombre 0.2\n",
      "0.2\n"
     ]
    }
   ],
   "source": [
    "# exercice 4 : Écris le programme dans cette cellule.\n",
    "def max(a,b):\n",
    "    if a<b:\n",
    "        return (b)\n",
    "    else:\n",
    "        return (a)\n",
    "nombre1=float((input(\"Entre le premier nombre \")))\n",
    "nombre2=float((input(\"Entre le second nombre \")))\n",
    "print (max(nombre1,nombre2))"
   ]
  },
  {
   "cell_type": "markdown",
   "metadata": {},
   "source": [
    "## exercice 5.**\n",
    "\n",
    "Ecris une fonction de() (fonction sans argument) renvoyant un nombre au hasard entre 1 et 6.\n",
    "\n",
    "**indications :** \n",
    "- l’instruction randint(a,b) renvoie un entier au hasard entre a et b.\n",
    "- il faut écrire au tout début du programme from random import randint, car cette instruction n’est pas par défaut dans la mémoire de Python."
   ]
  },
  {
   "cell_type": "code",
   "execution_count": 36,
   "metadata": {},
   "outputs": [
    {
     "name": "stdout",
     "output_type": "stream",
     "text": [
      "3\n",
      "6\n",
      "1\n",
      "5\n"
     ]
    }
   ],
   "source": [
    "# exercice 5 : Écris le programme dans cette cellule.\n",
    "from random import randint\n",
    "def de():\n",
    "    return randint(1,6)\n",
    "print(de())\n",
    "print(de())\n",
    "print(de())\n",
    "print(de())\n"
   ]
  }
 ],
 "metadata": {
  "kernelspec": {
   "display_name": "Python 3",
   "language": "python",
   "name": "python3"
  },
  "language_info": {
   "codemirror_mode": {
    "name": "ipython",
    "version": 3
   },
   "file_extension": ".py",
   "mimetype": "text/x-python",
   "name": "python",
   "nbconvert_exporter": "python",
   "pygments_lexer": "ipython3",
   "version": "3.7.6"
  }
 },
 "nbformat": 4,
 "nbformat_minor": 2
}
