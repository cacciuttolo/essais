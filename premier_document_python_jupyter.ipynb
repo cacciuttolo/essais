{
  "nbformat": 4,
  "nbformat_minor": 0,
  "metadata": {
    "colab": {
      "name": "premier_document_python_jupyter.ipynb",
      "version": "0.3.2",
      "provenance": [],
      "collapsed_sections": [],
      "include_colab_link": true
    },
    "kernelspec": {
      "name": "python3",
      "display_name": "Python 3"
    }
  },
  "cells": [
    {
      "cell_type": "markdown",
      "metadata": {
        "id": "view-in-github",
        "colab_type": "text"
      },
      "source": [
        "<a href=\"https://colab.research.google.com/github/cacciuttolo/essais/blob/master/premier_document_python_jupyter.ipynb\" target=\"_parent\"><img src=\"https://colab.research.google.com/assets/colab-badge.svg\" alt=\"Open In Colab\"/></a>"
      ]
    },
    {
      "cell_type": "markdown",
      "metadata": {
        "id": "FMTFqXRKmQWB",
        "colab_type": "text"
      },
      "source": [
        "Ceci est une *cellule texte* qui permet d'écrire des trucs et de mettre des images![Texte alternatif…](https://upload.wikimedia.org/wikipedia/commons/thumb/3/32/Resolution_test.jpg/600px-Resolution_test.jpg)\n",
        "\n"
      ]
    },
    {
      "cell_type": "markdown",
      "metadata": {
        "id": "gahQjjdHoqBD",
        "colab_type": "text"
      },
      "source": [
        "Commençons par un exemple de fonction permettant de calculer des images, puis de trouver le minimum parmi ces images :"
      ]
    },
    {
      "cell_type": "code",
      "metadata": {
        "id": "9j6IAMc6m_JT",
        "colab_type": "code",
        "colab": {}
      },
      "source": [
        "def f(x):\n",
        "    return x**2+5*x+3\n",
        "def tvaleurs(liste_de_nombres):\n",
        "    return ([f(liste_de_nombres[i]) for i in range(len(liste_de_nombres))])\n",
        "\n",
        "def minimum_images(liste_de_nombres):\n",
        "    return (min(tvaleurs(liste_de_nombres)))\n",
        "\n",
        "li=[i-10 for i in range(10)]\n",
        "l=tvaleurs(li)\n",
        "print (li)\n",
        "print (l)\n",
        "print(\"le minimum est: \",minimum_images(li))"
      ],
      "execution_count": 0,
      "outputs": []
    },
    {
      "cell_type": "markdown",
      "metadata": {
        "id": "yW36u-TQo7b6",
        "colab_type": "text"
      },
      "source": [
        "A présent une petite représentation graphique de suite :"
      ]
    },
    {
      "cell_type": "code",
      "metadata": {
        "id": "y-EK9094p5if",
        "colab_type": "code",
        "colab": {
          "base_uri": "https://localhost:8080/",
          "height": 164
        },
        "outputId": "4418a31f-5019-4ad6-ae5e-702736e17b60"
      },
      "source": [
        "!pip install matplotlib"
      ],
      "execution_count": 1,
      "outputs": [
        {
          "output_type": "stream",
          "text": [
            "Requirement already satisfied: matplotlib in /usr/local/lib/python3.6/dist-packages (3.0.3)\n",
            "Requirement already satisfied: pyparsing!=2.0.4,!=2.1.2,!=2.1.6,>=2.0.1 in /usr/local/lib/python3.6/dist-packages (from matplotlib) (2.4.0)\n",
            "Requirement already satisfied: cycler>=0.10 in /usr/local/lib/python3.6/dist-packages (from matplotlib) (0.10.0)\n",
            "Requirement already satisfied: python-dateutil>=2.1 in /usr/local/lib/python3.6/dist-packages (from matplotlib) (2.5.3)\n",
            "Requirement already satisfied: kiwisolver>=1.0.1 in /usr/local/lib/python3.6/dist-packages (from matplotlib) (1.1.0)\n",
            "Requirement already satisfied: numpy>=1.10.0 in /usr/local/lib/python3.6/dist-packages (from matplotlib) (1.16.4)\n",
            "Requirement already satisfied: six in /usr/local/lib/python3.6/dist-packages (from cycler>=0.10->matplotlib) (1.12.0)\n",
            "Requirement already satisfied: setuptools in /usr/local/lib/python3.6/dist-packages (from kiwisolver>=1.0.1->matplotlib) (41.0.1)\n"
          ],
          "name": "stdout"
        }
      ]
    },
    {
      "cell_type": "code",
      "metadata": {
        "id": "aD46qtV7n2Mr",
        "colab_type": "code",
        "colab": {}
      },
      "source": [
        "import matplotlib.pyplot as plt\n",
        "\n",
        "def carre_liste(n):\n",
        "    return [k**2 for k in range (n)]\n",
        "\n",
        "def graph_termes_suite(u):\n",
        "    x=[k for k in range(len(u))]\n",
        "    plt.plot(x,u,'b.')\n",
        "    plt.show()\n",
        "    \n",
        "u=carre_liste(10)\n",
        "graph_termes_suite(u)\n",
        "\n"
      ],
      "execution_count": 0,
      "outputs": []
    },
    {
      "cell_type": "markdown",
      "metadata": {
        "id": "z-Jh29qHpHnw",
        "colab_type": "text"
      },
      "source": [
        "Enfin, une approximation de pi avec représentation graphique :"
      ]
    },
    {
      "cell_type": "code",
      "metadata": {
        "id": "a8b2kX47oXrV",
        "colab_type": "code",
        "colab": {}
      },
      "source": [
        "from random import *\n",
        "import matplotlib.pyplot as plt\n",
        "\n",
        "\n",
        "\n",
        "def proportion(n):\n",
        "    cpt=0\n",
        "    absT=[]\n",
        "    ordT=[]\n",
        "    absF=[]\n",
        "    ordF=[]\n",
        "    for i in range (n):\n",
        "        x=uniform(-1,1)\n",
        "        y=uniform(-1,1)\n",
        "        if x*x+y*y<=1:\n",
        "            cpt=cpt+1\n",
        "            absT=absT+[x]\n",
        "            ordT=ordT+[y]\n",
        "        else:\n",
        "            absF=absF+[x]\n",
        "            ordF=ordF+[y]\n",
        "    texte1=str(n)+\" essais\"\n",
        "    texte2=\"approx de pi:\"+str(4*float(cpt/n))       \n",
        "    plt.axis('equal')\n",
        "    plt.scatter(absT,ordT, c='coral')\n",
        "    plt.scatter(absF,ordF, c='black')\n",
        "    plt.text(-0.3,0.2,texte1)\n",
        "    plt.text(-0.5,-0.2,texte2)\n",
        "    plt.show()\n",
        "    return 4*float(cpt/n)\n",
        "    \n",
        "proportion(10000)\n"
      ],
      "execution_count": 0,
      "outputs": []
    }
  ]
}