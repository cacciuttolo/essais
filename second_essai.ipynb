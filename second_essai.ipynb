{
  "nbformat": 4,
  "nbformat_minor": 0,
  "metadata": {
    "colab": {
      "name": "second_essai.ipynb",
      "version": "0.3.2",
      "provenance": []
    },
    "kernelspec": {
      "name": "python3",
      "display_name": "Python 3"
    }
  },
  "cells": [
    {
      "cell_type": "code",
      "metadata": {
        "id": "lab3s_iEQ5KZ",
        "colab_type": "code",
        "colab": {}
      },
      "source": [
        "essai 2"
      ],
      "execution_count": 0,
      "outputs": []
    },
    {
      "cell_type": "code",
      "metadata": {
        "id": "IDNcu2FjQ8rX",
        "colab_type": "code",
        "colab": {}
      },
      "source": [
        "!pip install matplotlib"
      ],
      "execution_count": 0,
      "outputs": []
    },
    {
      "cell_type": "code",
      "metadata": {
        "id": "6V2Z5h8tRAER",
        "colab_type": "code",
        "colab": {}
      },
      "source": [
        "print(\"hello\")"
      ],
      "execution_count": 0,
      "outputs": []
    }
  ]
}